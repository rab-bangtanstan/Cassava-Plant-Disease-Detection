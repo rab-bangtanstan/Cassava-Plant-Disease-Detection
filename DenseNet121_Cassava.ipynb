{
  "nbformat": 4,
  "nbformat_minor": 0,
  "metadata": {
    "colab": {
      "name": "DenseNet121-Cassava.ipynb",
      "provenance": [],
      "collapsed_sections": []
    },
    "kernelspec": {
      "name": "python3",
      "display_name": "Python 3"
    }
  },
  "cells": [
    {
      "cell_type": "code",
      "metadata": {
        "colab": {
          "base_uri": "https://localhost:8080/"
        },
        "id": "Ax9BcPFo-4Ih",
        "outputId": "c89a8dc3-3063-4981-e0a7-a5fb071fec29"
      },
      "source": [
        "from google.colab import drive\n",
        "drive.mount('/content/drive')"
      ],
      "execution_count": null,
      "outputs": [
        {
          "output_type": "stream",
          "text": [
            "Mounted at /content/drive\n"
          ],
          "name": "stdout"
        }
      ]
    },
    {
      "cell_type": "code",
      "metadata": {
        "colab": {
          "base_uri": "https://localhost:8080/"
        },
        "id": "A4Ls0ZKCq0CV",
        "outputId": "2d1aa517-6e8b-4872-c90d-bd0f68ef165d"
      },
      "source": [
        "import numpy as np\r\n",
        "import pandas as pd\r\n",
        "import matplotlib.pyplot as plt\r\n",
        "%matplotlib inline\r\n",
        "import cv2\r\n",
        "import os\r\n",
        "from tqdm import tqdm\r\n",
        "from sklearn.metrics import confusion_matrix\r\n",
        "from sklearn.model_selection import train_test_split\r\n",
        "from keras.utils.np_utils import to_categorical\r\n",
        "from keras.models import Model,Sequential, Input, load_model\r\n",
        "from keras.layers import Dense, Dropout, Flatten, Conv2D, MaxPool2D, BatchNormalization, AveragePooling2D, GlobalAveragePooling2D\r\n",
        "from keras.optimizers import Adam,SGD\r\n",
        "from keras.preprocessing.image import ImageDataGenerator\r\n",
        "from keras.callbacks import ModelCheckpoint, ReduceLROnPlateau\r\n",
        "from keras.applications import DenseNet121\r\n",
        "from keras.preprocessing import image \r\n",
        "from keras.preprocessing.image import ImageDataGenerator\r\n",
        "\r\n",
        "img_size=336\r\n",
        "train_datagen = ImageDataGenerator(\r\n",
        "    rescale=1./255,\r\n",
        "    zoom_range=0.1,\r\n",
        "    horizontal_flip = True,\r\n",
        "    vertical_flip = True,\r\n",
        "    validation_split = 0.0,\r\n",
        "    width_shift_range=0.2,\r\n",
        "    height_shift_range=0.2)\r\n",
        "\r\n",
        "valid_datagen = ImageDataGenerator(\r\n",
        "    rescale=1./255)\r\n",
        "\r\n",
        "train_generator = train_datagen.flow_from_directory(\r\n",
        "        '/content/drive/MyDrive/Augmented_Data/Splitted/train',  #training data path\r\n",
        "        target_size=(img_size, img_size),\r\n",
        "        batch_size=32,\r\n",
        "        class_mode='categorical')\r\n",
        "\r\n",
        "valid_generator = valid_datagen.flow_from_directory(\r\n",
        "        '/content/drive/MyDrive/Augmented_Data/Splitted/val', #validation data path\r\n",
        "        target_size=(img_size, img_size),\r\n",
        "        batch_size=32,\r\n",
        "        class_mode='categorical',\r\n",
        "        shuffle = False)\r\n",
        "\r\n",
        "SIZE=336\r\n",
        "channel=3\r\n",
        "\r\n",
        "\r\n",
        "def build_densenet():\r\n",
        "    densenet = DenseNet121(weights='imagenet', include_top=False)\r\n",
        "\r\n",
        "    input = Input(shape=(SIZE, SIZE,channel))\r\n",
        "    x = Conv2D(3, (3, 3), padding='same')(input)\r\n",
        "    x = densenet(x) \r\n",
        "    x = GlobalAveragePooling2D()(x)\r\n",
        "    x = BatchNormalization()(x)\r\n",
        "    x = Dropout(0.5)(x)\r\n",
        "    x = Dense(256, activation='relu')(x)\r\n",
        "    x = BatchNormalization()(x)\r\n",
        "    x = Dropout(0.5)(x)\r\n",
        "\r\n",
        "    # multi output\r\n",
        "    output = Dense(5,activation = 'softmax', name='root')(x)\r\n",
        " \r\n",
        "\r\n",
        "    # model\r\n",
        "    model = Model(input,output)\r\n",
        "    \r\n",
        "    #lr=0.002\r\n",
        "    optimizer = Adam(lr=1e-4, beta_1=0.9, beta_2=0.999, epsilon=0.1, decay=0.0)\r\n",
        "    #optimizer = SGD(lr=1e-5,momentum=0.9)\r\n",
        "    model.compile(loss='categorical_crossentropy', optimizer=optimizer, metrics=['accuracy'])\r\n",
        "    model.summary()\r\n",
        "    \r\n",
        "    return model\r\n",
        "\r\n",
        "filepath = '/content/drive/MyDrive/cassava_dense121_run2.h5'   #path where the model should be saved\r\n",
        "annealer = ReduceLROnPlateau(monitor='val_accuracy', factor=0.5, patience=5, verbose=1, min_lr=1e-3)\r\n",
        "checkpoint = ModelCheckpoint(filepath, verbose=1, save_best_only=True)\r\n",
        "\r\n",
        "model = build_densenet()"
      ],
      "execution_count": null,
      "outputs": [
        {
          "output_type": "stream",
          "text": [
            "Found 6000 images belonging to 5 classes.\n",
            "Found 1500 images belonging to 5 classes.\n",
            "Downloading data from https://storage.googleapis.com/tensorflow/keras-applications/densenet/densenet121_weights_tf_dim_ordering_tf_kernels_notop.h5\n",
            "29089792/29084464 [==============================] - 0s 0us/step\n",
            "Model: \"model\"\n",
            "_________________________________________________________________\n",
            "Layer (type)                 Output Shape              Param #   \n",
            "=================================================================\n",
            "input_2 (InputLayer)         [(None, 336, 336, 3)]     0         \n",
            "_________________________________________________________________\n",
            "conv2d (Conv2D)              (None, 336, 336, 3)       84        \n",
            "_________________________________________________________________\n",
            "densenet121 (Functional)     (None, None, None, 1024)  7037504   \n",
            "_________________________________________________________________\n",
            "global_average_pooling2d (Gl (None, 1024)              0         \n",
            "_________________________________________________________________\n",
            "batch_normalization (BatchNo (None, 1024)              4096      \n",
            "_________________________________________________________________\n",
            "dropout (Dropout)            (None, 1024)              0         \n",
            "_________________________________________________________________\n",
            "dense (Dense)                (None, 256)               262400    \n",
            "_________________________________________________________________\n",
            "batch_normalization_1 (Batch (None, 256)               1024      \n",
            "_________________________________________________________________\n",
            "dropout_1 (Dropout)          (None, 256)               0         \n",
            "_________________________________________________________________\n",
            "root (Dense)                 (None, 5)                 1285      \n",
            "=================================================================\n",
            "Total params: 7,306,393\n",
            "Trainable params: 7,220,185\n",
            "Non-trainable params: 86,208\n",
            "_________________________________________________________________\n"
          ],
          "name": "stdout"
        }
      ]
    },
    {
      "cell_type": "code",
      "metadata": {
        "colab": {
          "base_uri": "https://localhost:8080/"
        },
        "id": "VrTjn0Nsq0LC",
        "outputId": "39a7dbe1-b3f2-4ac6-b00b-244318ba6b76"
      },
      "source": [
        "history = model.fit(train_generator,\r\n",
        "                   validation_steps = valid_generator.n // valid_generator.batch_size,\r\n",
        "                   validation_data = valid_generator,\r\n",
        "                   steps_per_epoch = train_generator.n // train_generator.batch_size ,\r\n",
        "                   epochs = 50,\r\n",
        "                   callbacks = [annealer,checkpoint])\r\n"
      ],
      "execution_count": null,
      "outputs": [
        {
          "output_type": "stream",
          "text": [
            "Epoch 1/50\n",
            "187/187 [==============================] - 2207s 12s/step - loss: 2.6442 - accuracy: 0.2162 - val_loss: 1.6364 - val_accuracy: 0.3410\n",
            "\n",
            "Epoch 00001: val_loss improved from inf to 1.63638, saving model to /content/drive/MyDrive/cassava_dense121_run2.h5\n",
            "Epoch 2/50\n",
            "187/187 [==============================] - 234s 1s/step - loss: 2.1239 - accuracy: 0.3195 - val_loss: 1.3437 - val_accuracy: 0.4776\n",
            "\n",
            "Epoch 00002: val_loss improved from 1.63638 to 1.34372, saving model to /content/drive/MyDrive/cassava_dense121_run2.h5\n",
            "Epoch 3/50\n",
            "187/187 [==============================] - 232s 1s/step - loss: 1.6530 - accuracy: 0.4558 - val_loss: 0.9635 - val_accuracy: 0.6495\n",
            "\n",
            "Epoch 00003: val_loss improved from 1.34372 to 0.96349, saving model to /content/drive/MyDrive/cassava_dense121_run2.h5\n",
            "Epoch 4/50\n",
            "187/187 [==============================] - 232s 1s/step - loss: 1.4775 - accuracy: 0.5235 - val_loss: 0.8587 - val_accuracy: 0.6957\n",
            "\n",
            "Epoch 00004: val_loss improved from 0.96349 to 0.85874, saving model to /content/drive/MyDrive/cassava_dense121_run2.h5\n",
            "Epoch 5/50\n",
            "187/187 [==============================] - 233s 1s/step - loss: 1.2576 - accuracy: 0.5674 - val_loss: 0.8133 - val_accuracy: 0.7167\n",
            "\n",
            "Epoch 00005: val_loss improved from 0.85874 to 0.81329, saving model to /content/drive/MyDrive/cassava_dense121_run2.h5\n",
            "Epoch 6/50\n",
            "187/187 [==============================] - 232s 1s/step - loss: 1.1500 - accuracy: 0.6135 - val_loss: 0.8303 - val_accuracy: 0.7106\n",
            "\n",
            "Epoch 00006: val_loss did not improve from 0.81329\n",
            "Epoch 7/50\n",
            "187/187 [==============================] - 232s 1s/step - loss: 0.9823 - accuracy: 0.6613 - val_loss: 0.6867 - val_accuracy: 0.7711\n",
            "\n",
            "Epoch 00007: val_loss improved from 0.81329 to 0.68671, saving model to /content/drive/MyDrive/cassava_dense121_run2.h5\n",
            "Epoch 8/50\n",
            "187/187 [==============================] - 232s 1s/step - loss: 0.9292 - accuracy: 0.6934 - val_loss: 0.7494 - val_accuracy: 0.7629\n",
            "\n",
            "Epoch 00008: val_loss did not improve from 0.68671\n",
            "Epoch 9/50\n",
            "187/187 [==============================] - 233s 1s/step - loss: 0.8713 - accuracy: 0.7126 - val_loss: 0.7691 - val_accuracy: 0.7602\n",
            "\n",
            "Epoch 00009: val_loss did not improve from 0.68671\n",
            "Epoch 10/50\n",
            "187/187 [==============================] - 233s 1s/step - loss: 0.7862 - accuracy: 0.7439 - val_loss: 0.8259 - val_accuracy: 0.7507\n",
            "\n",
            "Epoch 00010: val_loss did not improve from 0.68671\n",
            "Epoch 11/50\n",
            "187/187 [==============================] - 232s 1s/step - loss: 0.7589 - accuracy: 0.7506 - val_loss: 0.5735 - val_accuracy: 0.8207\n",
            "\n",
            "Epoch 00011: val_loss improved from 0.68671 to 0.57351, saving model to /content/drive/MyDrive/cassava_dense121_run2.h5\n",
            "Epoch 12/50\n",
            "187/187 [==============================] - 232s 1s/step - loss: 0.7187 - accuracy: 0.7629 - val_loss: 0.5200 - val_accuracy: 0.8397\n",
            "\n",
            "Epoch 00012: val_loss improved from 0.57351 to 0.51998, saving model to /content/drive/MyDrive/cassava_dense121_run2.h5\n",
            "Epoch 13/50\n",
            "187/187 [==============================] - 232s 1s/step - loss: 0.6854 - accuracy: 0.7759 - val_loss: 0.5675 - val_accuracy: 0.8227\n",
            "\n",
            "Epoch 00013: val_loss did not improve from 0.51998\n",
            "Epoch 14/50\n",
            "187/187 [==============================] - 233s 1s/step - loss: 0.6959 - accuracy: 0.7802 - val_loss: 0.5485 - val_accuracy: 0.8383\n",
            "\n",
            "Epoch 00014: val_loss did not improve from 0.51998\n",
            "Epoch 15/50\n",
            "187/187 [==============================] - 234s 1s/step - loss: 0.6533 - accuracy: 0.7850 - val_loss: 0.4796 - val_accuracy: 0.8614\n",
            "\n",
            "Epoch 00015: val_loss improved from 0.51998 to 0.47961, saving model to /content/drive/MyDrive/cassava_dense121_run2.h5\n",
            "Epoch 16/50\n",
            "187/187 [==============================] - 235s 1s/step - loss: 0.6030 - accuracy: 0.8002 - val_loss: 0.4904 - val_accuracy: 0.8533\n",
            "\n",
            "Epoch 00016: val_loss did not improve from 0.47961\n",
            "Epoch 17/50\n",
            "187/187 [==============================] - 237s 1s/step - loss: 0.5533 - accuracy: 0.8246 - val_loss: 0.5403 - val_accuracy: 0.8471\n",
            "\n",
            "Epoch 00017: val_loss did not improve from 0.47961\n",
            "Epoch 18/50\n",
            "187/187 [==============================] - 235s 1s/step - loss: 0.5646 - accuracy: 0.8149 - val_loss: 0.4551 - val_accuracy: 0.8689\n",
            "\n",
            "Epoch 00018: val_loss improved from 0.47961 to 0.45507, saving model to /content/drive/MyDrive/cassava_dense121_run2.h5\n",
            "Epoch 19/50\n",
            "187/187 [==============================] - 234s 1s/step - loss: 0.5484 - accuracy: 0.8165 - val_loss: 0.5344 - val_accuracy: 0.8573\n",
            "\n",
            "Epoch 00019: val_loss did not improve from 0.45507\n",
            "Epoch 20/50\n",
            "187/187 [==============================] - 234s 1s/step - loss: 0.5391 - accuracy: 0.8166 - val_loss: 0.5161 - val_accuracy: 0.8655\n",
            "\n",
            "Epoch 00020: val_loss did not improve from 0.45507\n",
            "Epoch 21/50\n",
            "187/187 [==============================] - 234s 1s/step - loss: 0.5332 - accuracy: 0.8296 - val_loss: 0.4520 - val_accuracy: 0.8757\n",
            "\n",
            "Epoch 00021: val_loss improved from 0.45507 to 0.45197, saving model to /content/drive/MyDrive/cassava_dense121_run2.h5\n",
            "Epoch 22/50\n",
            "187/187 [==============================] - 234s 1s/step - loss: 0.5033 - accuracy: 0.8391 - val_loss: 0.4556 - val_accuracy: 0.8791\n",
            "\n",
            "Epoch 00022: val_loss did not improve from 0.45197\n",
            "Epoch 23/50\n",
            "187/187 [==============================] - 234s 1s/step - loss: 0.4541 - accuracy: 0.8618 - val_loss: 0.5268 - val_accuracy: 0.8641\n",
            "\n",
            "Epoch 00023: val_loss did not improve from 0.45197\n",
            "Epoch 24/50\n",
            "187/187 [==============================] - 233s 1s/step - loss: 0.4595 - accuracy: 0.8536 - val_loss: 0.5179 - val_accuracy: 0.8689\n",
            "\n",
            "Epoch 00024: val_loss did not improve from 0.45197\n",
            "Epoch 25/50\n",
            "187/187 [==============================] - 234s 1s/step - loss: 0.4646 - accuracy: 0.8449 - val_loss: 0.4952 - val_accuracy: 0.8743\n",
            "\n",
            "Epoch 00025: val_loss did not improve from 0.45197\n",
            "Epoch 26/50\n",
            "187/187 [==============================] - 234s 1s/step - loss: 0.4617 - accuracy: 0.8481 - val_loss: 0.4074 - val_accuracy: 0.8886\n",
            "\n",
            "Epoch 00026: val_loss improved from 0.45197 to 0.40735, saving model to /content/drive/MyDrive/cassava_dense121_run2.h5\n",
            "Epoch 27/50\n",
            "187/187 [==============================] - 235s 1s/step - loss: 0.4315 - accuracy: 0.8663 - val_loss: 0.6542 - val_accuracy: 0.8417\n",
            "\n",
            "Epoch 00027: val_loss did not improve from 0.40735\n",
            "Epoch 28/50\n",
            "187/187 [==============================] - 233s 1s/step - loss: 0.4267 - accuracy: 0.8573 - val_loss: 0.4972 - val_accuracy: 0.8757\n",
            "\n",
            "Epoch 00028: val_loss did not improve from 0.40735\n",
            "Epoch 29/50\n",
            "187/187 [==============================] - 233s 1s/step - loss: 0.4214 - accuracy: 0.8673 - val_loss: 0.3983 - val_accuracy: 0.8988\n",
            "\n",
            "Epoch 00029: val_loss improved from 0.40735 to 0.39834, saving model to /content/drive/MyDrive/cassava_dense121_run2.h5\n",
            "Epoch 30/50\n",
            "187/187 [==============================] - 233s 1s/step - loss: 0.4055 - accuracy: 0.8682 - val_loss: 0.3995 - val_accuracy: 0.8967\n",
            "\n",
            "Epoch 00030: val_loss did not improve from 0.39834\n",
            "Epoch 31/50\n",
            "187/187 [==============================] - 233s 1s/step - loss: 0.3798 - accuracy: 0.8818 - val_loss: 0.4215 - val_accuracy: 0.8906\n",
            "\n",
            "Epoch 00031: val_loss did not improve from 0.39834\n",
            "Epoch 32/50\n",
            "187/187 [==============================] - 235s 1s/step - loss: 0.3913 - accuracy: 0.8733 - val_loss: 0.5745 - val_accuracy: 0.8614\n",
            "\n",
            "Epoch 00032: val_loss did not improve from 0.39834\n",
            "Epoch 33/50\n",
            "187/187 [==============================] - 239s 1s/step - loss: 0.4001 - accuracy: 0.8713 - val_loss: 0.3982 - val_accuracy: 0.8906\n",
            "\n",
            "Epoch 00033: val_loss improved from 0.39834 to 0.39816, saving model to /content/drive/MyDrive/cassava_dense121_run2.h5\n",
            "Epoch 34/50\n",
            "187/187 [==============================] - 234s 1s/step - loss: 0.3885 - accuracy: 0.8757 - val_loss: 0.5319 - val_accuracy: 0.8689\n",
            "\n",
            "Epoch 00034: val_loss did not improve from 0.39816\n",
            "Epoch 35/50\n",
            "187/187 [==============================] - 235s 1s/step - loss: 0.3780 - accuracy: 0.8790 - val_loss: 0.4395 - val_accuracy: 0.8933\n",
            "\n",
            "Epoch 00035: val_loss did not improve from 0.39816\n",
            "Epoch 36/50\n",
            "187/187 [==============================] - 235s 1s/step - loss: 0.3452 - accuracy: 0.8882 - val_loss: 0.4029 - val_accuracy: 0.8988\n",
            "\n",
            "Epoch 00036: val_loss did not improve from 0.39816\n",
            "Epoch 37/50\n",
            "187/187 [==============================] - 234s 1s/step - loss: 0.3532 - accuracy: 0.8856 - val_loss: 0.4182 - val_accuracy: 0.8940\n",
            "\n",
            "Epoch 00037: val_loss did not improve from 0.39816\n",
            "Epoch 38/50\n",
            "187/187 [==============================] - 233s 1s/step - loss: 0.3355 - accuracy: 0.8917 - val_loss: 0.4331 - val_accuracy: 0.8920\n",
            "\n",
            "Epoch 00038: val_loss did not improve from 0.39816\n",
            "Epoch 39/50\n",
            "187/187 [==============================] - 234s 1s/step - loss: 0.3266 - accuracy: 0.8914 - val_loss: 0.3996 - val_accuracy: 0.9001\n",
            "\n",
            "Epoch 00039: val_loss did not improve from 0.39816\n",
            "Epoch 40/50\n",
            "  5/187 [..............................] - ETA: 3:31 - loss: 0.4574 - accuracy: 0.8427"
          ],
          "name": "stdout"
        }
      ]
    },
    {
      "cell_type": "code",
      "metadata": {
        "colab": {
          "base_uri": "https://localhost:8080/",
          "height": 1000
        },
        "id": "yQFR5orIlNGk",
        "outputId": "f89dc1df-1b79-45d2-f331-8631b74bdb37"
      },
      "source": [
        "y_pred1 = np.argmax(predict1, axis=1)\r\n",
        "\r\n",
        "print('Confusion Matrix')\r\n",
        "\r\n",
        "cm = confusion_matrix(test_generator.classes, y_pred1)\r\n",
        "print(cm)\r\n",
        "\r\n",
        "import itertools\r\n",
        "plot_confusion_matrix(cm, target_names, title='Confusion Matrix')\r\n",
        "print(classification_report(test_generator.classes, y_pred1, target_names=target_names))"
      ],
      "execution_count": null,
      "outputs": [
        {
          "output_type": "stream",
          "text": [
            "Confusion Matrix\n",
            "[[29  9  1  1  0]\n",
            " [ 0 40  0  0  0]\n",
            " [ 0  0 40  0  0]\n",
            " [ 0  0  0 40  0]\n",
            " [ 4  1  0  1 31]]\n",
            "Normalized confusion matrix\n",
            "              precision    recall  f1-score   support\n",
            "\n",
            "         cbb       0.88      0.72      0.79        40\n",
            "        cbsd       0.80      1.00      0.89        40\n",
            "         cgm       0.98      1.00      0.99        40\n",
            "         cmd       0.95      1.00      0.98        40\n",
            "     healthy       1.00      0.84      0.91        37\n",
            "\n",
            "    accuracy                           0.91       197\n",
            "   macro avg       0.92      0.91      0.91       197\n",
            "weighted avg       0.92      0.91      0.91       197\n",
            "\n"
          ],
          "name": "stdout"
        },
        {
          "output_type": "display_data",
          "data": {
            "image/png": "[encoded data removed]",
            "text/plain": [
              "<Figure size 720x720 with 2 Axes>"
            ]
          },
          "metadata": {
            "tags": [],
            "needs_background": "light"
          }
        }
      ]
    },
    {
      "cell_type": "code",
      "metadata": {
        "id": "82WCPrc0Dvup",
        "colab": {
          "base_uri": "https://localhost:8080/"
        },
        "outputId": "249a04fa-2a5f-47dc-ed0b-34375dc7d36a"
      },
      "source": [
        "!pip install flask-ngrok"
      ],
      "execution_count": null,
      "outputs": [
        {
          "output_type": "stream",
          "text": [
            "Collecting flask-ngrok\n",
            "  Downloading https://files.pythonhosted.org/packages/af/6c/f54cb686ad1129e27d125d182f90f52b32f284e6c8df58c1bae54fa1adbc/flask_ngrok-0.0.25-py3-none-any.whl\n",
            "Requirement already satisfied: Flask>=0.8 in /usr/local/lib/python3.6/dist-packages (from flask-ngrok) (1.1.2)\n",
            "Requirement already satisfied: requests in /usr/local/lib/python3.6/dist-packages (from flask-ngrok) (2.23.0)\n",
            "Requirement already satisfied: click>=5.1 in /usr/local/lib/python3.6/dist-packages (from Flask>=0.8->flask-ngrok) (7.1.2)\n",
            "Requirement already satisfied: Jinja2>=2.10.1 in /usr/local/lib/python3.6/dist-packages (from Flask>=0.8->flask-ngrok) (2.11.3)\n",
            "Requirement already satisfied: Werkzeug>=0.15 in /usr/local/lib/python3.6/dist-packages (from Flask>=0.8->flask-ngrok) (1.0.1)\n",
            "Requirement already satisfied: itsdangerous>=0.24 in /usr/local/lib/python3.6/dist-packages (from Flask>=0.8->flask-ngrok) (1.1.0)\n",
            "Requirement already satisfied: certifi>=2017.4.17 in /usr/local/lib/python3.6/dist-packages (from requests->flask-ngrok) (2020.12.5)\n",
            "Requirement already satisfied: idna<3,>=2.5 in /usr/local/lib/python3.6/dist-packages (from requests->flask-ngrok) (2.10)\n",
            "Requirement already satisfied: chardet<4,>=3.0.2 in /usr/local/lib/python3.6/dist-packages (from requests->flask-ngrok) (3.0.4)\n",
            "Requirement already satisfied: urllib3!=1.25.0,!=1.25.1,<1.26,>=1.21.1 in /usr/local/lib/python3.6/dist-packages (from requests->flask-ngrok) (1.24.3)\n",
            "Requirement already satisfied: MarkupSafe>=0.23 in /usr/local/lib/python3.6/dist-packages (from Jinja2>=2.10.1->Flask>=0.8->flask-ngrok) (1.1.1)\n",
            "Installing collected packages: flask-ngrok\n",
            "Successfully installed flask-ngrok-0.0.25\n"
          ],
          "name": "stdout"
        }
      ]
    },
    {
      "cell_type": "code",
      "metadata": {
        "id": "PLC-OFcqwN73"
      },
      "source": [
        "%mkdir templates -p\r\n",
        "%mkdir static/css -p\r\n",
        "%mkdir uploads -p\r\n"
      ],
      "execution_count": null,
      "outputs": []
    },
    {
      "cell_type": "code",
      "metadata": {
        "colab": {
          "base_uri": "https://localhost:8080/"
        },
        "id": "IjdYs0BV4rfc",
        "outputId": "4046af5d-00b4-4e05-a477-6e676ae21a2b"
      },
      "source": [
        "li = ['Cassava Bacterial Blight','Cassava Brown Streak Disease','Cassava Green Mottle','Cassava Mossaic Disease','Healthy']\r\n",
        "print(li)"
      ],
      "execution_count": null,
      "outputs": [
        {
          "output_type": "stream",
          "text": [
            "['Cassava Bacterial Blight', 'Cassava Brown Streak Disease', 'Cassava Green Mottle', 'Cassava Mossaic Disease', 'Healthy']\n"
          ],
          "name": "stdout"
        }
      ]
    },
    {
      "cell_type": "code",
      "metadata": {
        "colab": {
          "base_uri": "https://localhost:8080/"
        },
        "id": "ImDKOubPyhj5",
        "outputId": "3e1b6140-a5b6-42dd-8dca-08dd1ffdca6a"
      },
      "source": [
        "from __future__ import division, print_function\r\n",
        "\r\n",
        "import sys\r\n",
        "import os\r\n",
        "import glob\r\n",
        "import re\r\n",
        "import numpy as np\r\n",
        "\r\n",
        "from flask import Flask\r\n",
        "from flask import Flask, redirect, url_for, request, render_template\r\n",
        "from werkzeug.utils import secure_filename\r\n",
        "\r\n",
        "\r\n",
        "from keras.applications.imagenet_utils import preprocess_input, decode_predictions\r\n",
        "from keras.models import load_model\r\n",
        "from keras.preprocessing import image\r\n",
        "\r\n",
        "app = Flask(__name__)\r\n",
        "run_with_ngrok(app) \r\n",
        "\r\n",
        "MODEL_PATH = '/content/drive/MyDrive/cassava_dense121_run2.h5'\r\n",
        "model = load_model(MODEL_PATH)\r\n",
        "print('Model loaded. Start serving...')\r\n",
        "\r\n",
        "def model_predict(img_path, model):\r\n",
        "  new_img = image.load_img(img_path, target_size=(336, 336))\r\n",
        "  img = image.img_to_array(new_img)\r\n",
        "  img = np.expand_dims(img, axis=0)\r\n",
        "  img = img/255\r\n",
        "  prediction = model.predict(img)\r\n",
        "  d = prediction.flatten()\r\n",
        "  j = d.max()\r\n",
        "  li = ['Cassava Bacterial Blight','Cassava Brown Streak Disease','Cassava Green Mottle','Cassava Mossaic Disease','Healthy']\r\n",
        "  for index,item in enumerate(d):\r\n",
        "    if item == j:\r\n",
        "        class_name = li[index]\r\n",
        "  return class_name\r\n",
        "\r\n",
        "@app.route('/', methods=['GET'])\r\n",
        "def index():\r\n",
        "    # Main page\r\n",
        "    return render_template('index.html')\r\n",
        "\r\n",
        "@app.route('/predict', methods=['GET', 'POST'])\r\n",
        "def upload():\r\n",
        "    if request.method == 'POST':\r\n",
        "        # Get the file from post request\r\n",
        "        f = request.files['file']\r\n",
        "\r\n",
        "        # Save the file to ./uploads\r\n",
        "        basepath = '/content/'\r\n",
        "        file_path = os.path.join(\r\n",
        "            basepath, 'uploads', secure_filename(f.filename))\r\n",
        "        f.save(file_path)\r\n",
        "\r\n",
        "        # Make prediction\r\n",
        "        result = model_predict(file_path, model)\r\n",
        "              # Convert to string\r\n",
        "        return result\r\n",
        "    return None\r\n",
        "\r\n",
        "\r\n",
        "app.run()\r\n"
      ],
      "execution_count": null,
      "outputs": [
        {
          "output_type": "stream",
          "text": [
            "Model loaded. Start serving...\n",
            " * Serving Flask app \"__main__\" (lazy loading)\n",
            " * Environment: production\n",
            "\u001b[31m   WARNING: This is a development server. Do not use it in a production deployment.\u001b[0m\n",
            "\u001b[2m   Use a production WSGI server instead.\u001b[0m\n",
            " * Debug mode: off\n"
          ],
          "name": "stdout"
        },
        {
          "output_type": "stream",
          "text": [
            " * Running on http://127.0.0.1:5000/ (Press CTRL+C to quit)\n"
          ],
          "name": "stderr"
        },
        {
          "output_type": "stream",
          "text": [
            " * Running on http://76c19aa4e34a.ngrok.io\n",
            " * Traffic stats available on http://127.0.0.1:4040\n"
          ],
          "name": "stdout"
        },
        {
          "output_type": "stream",
          "text": [
            "127.0.0.1 - - [08/Feb/2021 04:32:49] \"\u001b[37mGET / HTTP/1.1\u001b[0m\" 200 -\n",
            "127.0.0.1 - - [08/Feb/2021 04:32:49] \"\u001b[37mGET /static/js/main.js HTTP/1.1\u001b[0m\" 200 -\n",
            "127.0.0.1 - - [08/Feb/2021 04:32:49] \"\u001b[37mGET /static/css/main.css HTTP/1.1\u001b[0m\" 200 -\n",
            "127.0.0.1 - - [08/Feb/2021 04:32:52] \"\u001b[33mGET /favicon.ico HTTP/1.1\u001b[0m\" 404 -\n",
            "127.0.0.1 - - [08/Feb/2021 04:33:25] \"\u001b[37mPOST /predict HTTP/1.1\u001b[0m\" 200 -\n",
            "127.0.0.1 - - [08/Feb/2021 04:33:44] \"\u001b[37mPOST /predict HTTP/1.1\u001b[0m\" 200 -\n",
            "127.0.0.1 - - [08/Feb/2021 04:34:00] \"\u001b[37mPOST /predict HTTP/1.1\u001b[0m\" 200 -\n",
            "127.0.0.1 - - [08/Feb/2021 04:34:13] \"\u001b[37mPOST /predict HTTP/1.1\u001b[0m\" 200 -\n"
          ],
          "name": "stderr"
        }
      ]
    }
  ]
}